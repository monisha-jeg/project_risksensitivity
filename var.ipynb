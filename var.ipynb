{
 "cells": [
  {
   "cell_type": "code",
   "execution_count": 35,
   "metadata": {},
   "outputs": [],
   "source": [
    "from IPython.core.interactiveshell import InteractiveShell\n",
    "InteractiveShell.ast_node_interactivity = \"all\"\n",
    "import numpy as np\n",
    "from math import *\n",
    "from bandits import *\n",
    "from scipy.special import ndtri, erfinv\n",
    "from scipy.stats import norm\n",
    "import matplotlib.pyplot as plt\n",
    "%matplotlib inline "
   ]
  },
  {
   "cell_type": "markdown",
   "metadata": {},
   "source": [
    "#### Bandit Setting"
   ]
  },
  {
   "cell_type": "code",
   "execution_count": 151,
   "metadata": {},
   "outputs": [],
   "source": [
    "#As in Paper 1\n",
    "\n",
    "#best mean arm = best var arm\n",
    "# Arms = [(1, 5), (5, 5)]\n",
    "#best mean arm != best var arm\n",
    "# Arms = [(1, 1), (3, 15)]\n",
    "#A\n",
    "Arms = [(2, 1), (3, 1.5), (4, 5), (2, 2.5), (1, 1.5)]\n",
    "#B\n",
    "# Arms = [(1, 1), (3, 4), (5, 15), (7, 1), (9, 15)]\n",
    "K = len(Arms)\n",
    "bandit = gaussian_bandit(K, Arms)\n",
    "\n",
    "#Parameters\n",
    "#Number of rounds\n",
    "n = 1000\n",
    "#\n",
    "trials = 10"
   ]
  },
  {
   "cell_type": "code",
   "execution_count": 152,
   "metadata": {},
   "outputs": [
    {
     "data": {
      "text/plain": [
       "1"
      ]
     },
     "execution_count": 152,
     "metadata": {},
     "output_type": "execute_result"
    },
    {
     "data": {
      "text/plain": [
       "[0.35514637304852714,\n",
       " 0.9854739562013299,\n",
       " 0.32199547709942644,\n",
       " -0.6007419393777882,\n",
       " -1.01452604379867]"
      ]
     },
     "execution_count": 152,
     "metadata": {},
     "output_type": "execute_result"
    }
   ],
   "source": [
    "epsilon = 0.05 #the low probability thingy\n",
    "a = sqrt(2.)*erfinv(2*epsilon - 1)\n",
    "\n",
    "#Best arm\n",
    "#calculate true VaR\n",
    "true_vs = [norm.ppf(epsilon, loc = arm[0], scale = sqrt(arm[1])) for arm in Arms]\n",
    "best_arm = np.argmax(true_vs)\n",
    "v_best = true_vs[best_arm]\n",
    "best_arm\n",
    "true_vs"
   ]
  },
  {
   "cell_type": "markdown",
   "metadata": {},
   "source": [
    "### UCB - Risk Neutral"
   ]
  },
  {
   "cell_type": "code",
   "execution_count": 153,
   "metadata": {},
   "outputs": [
    {
     "name": "stdout",
     "output_type": "stream",
     "text": [
      "('Regret', 5.419886765386744)\n",
      "('Cumulative Regret', 653.1509038770425)\n",
      "('Perc optimal', 0.04109999999999999)\n",
      "[13, 31, 937, 10, 9]\n",
      "[0.9674670045238107, 1.2285092369367452, -4.802935239670433, -5.797228929691175, -1.5795179512760549]\n"
     ]
    }
   ],
   "source": [
    "#UCB\n",
    "\n",
    "regret_trials_0 = []\n",
    "cum_regret_trials_0 = []\n",
    "perc_optimal_trials_0 = []\n",
    "for trial in range(trials):\n",
    "\n",
    "    #Sample means and variances\n",
    "    sample_rewards = [[] for k in range(K)]\n",
    "    sample_means = [0]*K\n",
    "    sample_vars = [0]*K\n",
    "    net_rewards = []\n",
    "    net_v = 0\n",
    "    #mean-variance values\n",
    "    vs = [0]*K\n",
    "    #UCB values\n",
    "    Bs = [0]*K\n",
    "    #Number of times each arm is played\n",
    "    num_played = [0]*K\n",
    "    #Risk-averse regret\n",
    "    regret_till_now = 0\n",
    "    cum_regret_till_now = 0\n",
    "    regret = []\n",
    "    cum_regret = []\n",
    "    perc_optimal = []\n",
    "\n",
    "    for i in range(K):\n",
    "        #Pull arm\n",
    "        reward = bandit.pull_arm(i)\n",
    "        #Add reward to list of rewards\n",
    "        sample_rewards[i].append(reward)\n",
    "        net_rewards.append(reward)\n",
    "        #Add reward to mean, variance is zero so no need to update\n",
    "        sample_means[i] = reward\n",
    "        #Update arm played count\n",
    "        num_played[i] += 1  \n",
    "        vs[i] = sample_means[i] + a*sqrt(sample_vars[i])\n",
    "        net_v = np.mean(net_rewards) + a*sqrt(np.var(net_rewards))\n",
    "        regret_till_now = v_best - net_v\n",
    "        cum_regret_till_now += v_best - true_vs[i]\n",
    "        regret.append(regret_till_now)\n",
    "        cum_regret.append(cum_regret_till_now)\n",
    "        perc_optimal.append(num_played[best_arm]/float(i+1)) \n",
    "\n",
    "    for t in range(K+1, n+1):\n",
    "        #Calculate  UCBs\n",
    "        Bs = [mean + np.sqrt(8*np.log(t)/num) for mean, num in zip(sample_means, num_played)]\n",
    "\n",
    "        #Pull best arm\n",
    "        arm_to_pull = np.argmax(Bs)\n",
    "        reward = bandit.pull_arm(arm_to_pull)\n",
    "        sample_rewards[arm_to_pull].append(reward)\n",
    "        net_rewards.append(reward)\n",
    "        num_played[arm_to_pull] += 1\n",
    "\n",
    "        #Update means\n",
    "        sample_means[arm_to_pull] = np.mean(sample_rewards[arm_to_pull])\n",
    "        sample_vars[arm_to_pull] = np.var(sample_rewards[arm_to_pull])\n",
    "        vs[arm_to_pull] = sample_means[arm_to_pull] + a*sample_vars[arm_to_pull]   \n",
    "        net_v = np.mean(net_rewards) + a*np.var(net_rewards)\n",
    "\n",
    "        #Update regret\n",
    "        regret_till_now = v_best - net_v\n",
    "        cum_regret_till_now += v_best - true_vs[arm_to_pull]\n",
    "        regret.append(regret_till_now)\n",
    "        cum_regret.append(cum_regret_till_now)\n",
    "        perc_optimal.append(num_played[best_arm]/float(t)) \n",
    "\n",
    "    regret_trials_0.append(regret)\n",
    "    cum_regret_trials_0.append(cum_regret)\n",
    "    perc_optimal_trials_0.append(perc_optimal)\n",
    "\n",
    "regret_avg_0 = np.mean(np.array(regret_trials_0), axis = 0)\n",
    "cum_regret_avg_0 = np.mean(np.array(cum_regret_trials_0), axis = 0)\n",
    "perc_optimal_avg_0 = np.mean(np.array(perc_optimal_trials_0), axis = 0)\n",
    "print(\"Regret\", regret_avg_0[-1])\n",
    "print(\"Cumulative Regret\", cum_regret_avg_0[-1])\n",
    "print(\"Perc optimal\", perc_optimal_avg_0[-1])\n",
    "print(num_played)  #of the last trial\n",
    "print(vs)"
   ]
  },
  {
   "cell_type": "markdown",
   "metadata": {},
   "source": [
    "### VaR - UCB (Paper 6)"
   ]
  },
  {
   "cell_type": "code",
   "execution_count": 158,
   "metadata": {},
   "outputs": [
    {
     "name": "stdout",
     "output_type": "stream",
     "text": [
      "('Regret', 0.3092582805872256)\n",
      "('Cumulative Regret', 281.986584948125)\n",
      "('Perc optimal', 0.5886999999999999)\n",
      "[5, 980, 5, 5, 5]\n",
      "[-0.18204088893442982, 0.912880454330911, 0.5552387503497993, -0.2961815309748901, -1.111711981082014]\n"
     ]
    }
   ],
   "source": [
    "#b - refer paper\n",
    "b = 0.1\n",
    "\n",
    "regret_trials_1 = []\n",
    "perc_optimal_trials_1 = []\n",
    "cum_regret_trials_1 = []\n",
    "for trial in range(trials):\n",
    "    \n",
    "    #All arms in the set initially\n",
    "    S = set(range(K))\n",
    "\n",
    "    #Sample means and variances\n",
    "    sample_rewards = [[] for k in range(K)]\n",
    "    sample_means = [0]*K\n",
    "    sample_vars = [0]*K\n",
    "    net_rewards = []\n",
    "    net_v = 0\n",
    "    #var values\n",
    "    vs = [0]*K\n",
    "    #Number of times each arm is played\n",
    "    num_played = [0]*K\n",
    "    #Risk-averse regret\n",
    "    regret_till_now = 0\n",
    "    cum_regret_till_now = 0\n",
    "    regret = []\n",
    "    cum_regret = []\n",
    "    perc_optimal = []\n",
    "    #Whether time horizon has been reached\n",
    "    done = False\n",
    "    #Delta - refer paper\n",
    "    Delta = 1.0\n",
    "    #rounds count\n",
    "    rounds = 0\n",
    "\n",
    "    for m in range(n):\n",
    "        #(1)\n",
    "        #Calculate n_m\n",
    "        n_m = ceil(64 * b**2 * np.log(n) / (Delta**2))\n",
    "\n",
    "        if len(S) == 1:\n",
    "            i = list(S)[0]\n",
    "            #print(num_played, n)\n",
    "            while(sum(num_played) < n):\n",
    "                #Pull arm\n",
    "                reward = bandit.pull_arm(i)\n",
    "                sample_rewards[i].append(reward)\n",
    "                net_rewards.append(reward)\n",
    "                sample_means[i] = np.mean(sample_rewards[i])\n",
    "                sample_vars[i] = np.var(sample_rewards[i])\n",
    "                num_played[i] += 1  \n",
    "                rounds += 1\n",
    "                vs[i] = sample_means[i] + a*sqrt(sample_vars[i])\n",
    "                net_v = np.mean(net_rewards) + a*sqrt(np.var(net_rewards))\n",
    "                regret_till_now = v_best - net_v\n",
    "                cum_regret_till_now += v_best - true_vs[i]\n",
    "                regret.append(regret_till_now)\n",
    "                cum_regret.append(cum_regret_till_now)\n",
    "                perc_optimal.append(num_played[best_arm]/float(rounds)) \n",
    "            done = True\n",
    "        else:\n",
    "            for i in S: \n",
    "                while(num_played[i] < n_m):\n",
    "                    #Pull arm\n",
    "                    reward = bandit.pull_arm(i)\n",
    "                    #Add reward to list of rewards\n",
    "                    sample_rewards[i].append(reward)\n",
    "                    net_rewards.append(reward)\n",
    "                    #Update means and variances and mean-variance\n",
    "                    sample_means[i] = np.mean(sample_rewards[i])\n",
    "                    sample_vars[i] = np.var(sample_rewards[i])\n",
    "                    num_played[i] += 1  \n",
    "                    rounds += 1\n",
    "                    #Update V\n",
    "                    vs[i] = sample_means[i] + a*sqrt(sample_vars[i])\n",
    "                    net_v = np.mean(net_rewards) + a*sqrt(np.var(net_rewards))\n",
    "                    #Update regret\n",
    "                    regret_till_now = v_best - net_v##Check\n",
    "                    cum_regret_till_now += v_best - true_vs[i]\n",
    "                    regret.append(regret_till_now)\n",
    "                    cum_regret.append(cum_regret_till_now)\n",
    "                    perc_optimal.append(num_played[best_arm]/float(rounds)) \n",
    "                    \n",
    "                    if rounds >= n:\n",
    "                        done = True\n",
    "                        break\n",
    "                if done:\n",
    "                    break                    \n",
    "        if done:\n",
    "            break\n",
    "        #(2)\n",
    "        #Remove arms\n",
    "        #Find min_ucb\n",
    "        max_lcb = -np.inf\n",
    "        for arm in S:\n",
    "            if vs[arm] - b*sqrt(log(n)/n_m) > max_lcb:\n",
    "                max_lcb = vs[arm] - b*sqrt(log(n)/n_m)\n",
    "        to_remove = []\n",
    "        for arm in S:\n",
    "            if vs[arm] + b*sqrt(log(n)/n_m) < max_lcb: \n",
    "                to_remove.append(arm)\n",
    "        for arm in to_remove:\n",
    "            S.remove(arm)    \n",
    "        #(3)\n",
    "        Delta = Delta/2 \n",
    "        \n",
    "    regret_trials_1.append(regret)\n",
    "    perc_optimal_trials_1.append(perc_optimal)\n",
    "    cum_regret_trials_1.append(cum_regret)\n",
    "    \n",
    "regret_avg_1 = np.mean(np.array(regret_trials_1), axis = 0)\n",
    "perc_optimal_avg_1 = np.mean(np.array(perc_optimal_trials_1), axis = 0)\n",
    "cum_regret_avg_1 = np.mean(np.array(cum_regret_trials_1), axis = 0)\n",
    "print(\"Regret\", regret_avg_1[-1])\n",
    "print(\"Cumulative Regret\", cum_regret_avg_1[-1])\n",
    "print(\"Perc optimal\", perc_optimal_avg_1[-1])\n",
    "print(num_played)  #of the last trial\n",
    "print(vs)"
   ]
  },
  {
   "cell_type": "markdown",
   "metadata": {},
   "source": [
    "### VaR-ETC (New)"
   ]
  },
  {
   "cell_type": "code",
   "execution_count": 171,
   "metadata": {},
   "outputs": [
    {
     "name": "stdout",
     "output_type": "stream",
     "text": [
      "('Regret', 1.0621903010247613)\n",
      "('Cumulative Regret', 253.5563478709922)\n",
      "('Perc optimal', 0.71)\n",
      "[30, 880, 30, 30, 30]\n",
      "[-0.841465056245057, 0.5901306103851094, -5.4737110214396, -4.295066145008171, -0.9662647518404928]\n"
     ]
    }
   ],
   "source": [
    "tau = 30\n",
    "\n",
    "regret_trials_2 = []\n",
    "cum_regret_trials_2 = []\n",
    "perc_optimal_trials_2 = []\n",
    "for trial in range(trials):\n",
    "    \n",
    "    #Sample means and variances\n",
    "    sample_rewards = [[] for k in range(K)]\n",
    "    sample_means = [0]*K\n",
    "    sample_vars = [0]*K\n",
    "    net_rewards = []\n",
    "    net_v = 0\n",
    "    #mean-variance values\n",
    "    vs = [0]*K\n",
    "    #Number of times each arm is played\n",
    "    num_played = [0]*K\n",
    "    #Risk-averse regret\n",
    "    regret_till_now = 0\n",
    "    cum_regret_till_now = 0\n",
    "    regret = []\n",
    "    cum_regret = []\n",
    "    perc_optimal = []\n",
    "\n",
    "\n",
    "    for i in range(K):\n",
    "        for j in range(tau):\n",
    "            #Pull arm\n",
    "            reward = bandit.pull_arm(i)\n",
    "            #Add reward to list of rewards\n",
    "            sample_rewards[i].append(reward)\n",
    "            net_rewards.append(reward)\n",
    "            #Mean\n",
    "            sample_means[i] = np.mean(sample_rewards[i])\n",
    "            #Variance\n",
    "            sample_vars[i] = np.var(sample_rewards[i])\n",
    "            #Update arm played count\n",
    "            num_played[i] += 1   \n",
    "            #Update V\n",
    "            vs[i] = sample_means[i] + a*sample_vars[i]   \n",
    "            net_v = np.mean(net_rewards) + a*np.var(net_rewards)\n",
    "            #Update regret\n",
    "            regret_till_now = v_best - net_v\n",
    "            cum_regret_till_now += v_best - true_vs[i]\n",
    "            regret.append(regret_till_now)\n",
    "            cum_regret.append(cum_regret_till_now)\n",
    "            perc_optimal.append(num_played[best_arm]/float(i*tau+j+1)) \n",
    "            \n",
    "\n",
    "    exploit_arm = np.argmax(vs)\n",
    "    for i in range(tau*K+1, n+1):\n",
    "        reward = bandit.pull_arm(exploit_arm)\n",
    "        sample_rewards[exploit_arm].append(reward)\n",
    "        net_rewards.append(reward)\n",
    "        sample_means[exploit_arm] = np.mean(sample_rewards[exploit_arm])\n",
    "        sample_vars[exploit_arm] = np.var(sample_rewards[exploit_arm])\n",
    "        num_played[exploit_arm] += 1\n",
    "\n",
    "        vs[exploit_arm] = sample_means[exploit_arm] + a*sample_vars[exploit_arm]\n",
    "        net_v = np.mean(net_rewards) + a*np.var(net_rewards)\n",
    "    \n",
    "        #Update regret\n",
    "        regret_till_now = v_best - net_v\n",
    "        cum_regret_till_now += v_best - true_vs[exploit_arm]\n",
    "        regret.append(regret_till_now)\n",
    "        cum_regret.append(cum_regret_till_now)\n",
    "        perc_optimal.append(num_played[best_arm]/float(i))\n",
    "\n",
    "    regret_trials_2.append(regret)\n",
    "    cum_regret_trials_2.append(cum_regret)\n",
    "    perc_optimal_trials_2.append(perc_optimal) \n",
    "\n",
    "regret_avg_2 = np.mean(np.array(regret_trials_2), axis = 0)\n",
    "cum_regret_avg_2 = np.mean(np.array(cum_regret_trials_2), axis = 0)\n",
    "perc_optimal_avg_2 = np.mean(np.array(perc_optimal_trials_2), axis = 0)\n",
    "print(\"Regret\", regret_avg_2[-1])\n",
    "print(\"Cumulative Regret\", cum_regret_avg_2[-1])\n",
    "print(\"Perc optimal\", perc_optimal_avg_2[-1])\n",
    "print(num_played)  #of the last trial\n",
    "print(vs)"
   ]
  },
  {
   "cell_type": "code",
   "execution_count": 172,
   "metadata": {},
   "outputs": [
    {
     "data": {
      "text/plain": [
       "[<matplotlib.lines.Line2D at 0x7f7b31fd5590>]"
      ]
     },
     "execution_count": 172,
     "metadata": {},
     "output_type": "execute_result"
    },
    {
     "data": {
      "text/plain": [
       "[<matplotlib.lines.Line2D at 0x7f7b31fd56d0>]"
      ]
     },
     "execution_count": 172,
     "metadata": {},
     "output_type": "execute_result"
    },
    {
     "data": {
      "text/plain": [
       "[<matplotlib.lines.Line2D at 0x7f7b31c0d690>]"
      ]
     },
     "execution_count": 172,
     "metadata": {},
     "output_type": "execute_result"
    },
    {
     "data": {
      "text/plain": [
       "Text(0.5,0,'n')"
      ]
     },
     "execution_count": 172,
     "metadata": {},
     "output_type": "execute_result"
    },
    {
     "data": {
      "text/plain": [
       "Text(0,0.5,'regret')"
      ]
     },
     "execution_count": 172,
     "metadata": {},
     "output_type": "execute_result"
    },
    {
     "data": {
      "text/plain": [
       "<matplotlib.legend.Legend at 0x7f7b31fd5850>"
      ]
     },
     "execution_count": 172,
     "metadata": {},
     "output_type": "execute_result"
    },
    {
     "data": {
      "image/png": "[encoded data removed]",
      "text/plain": [
       "<Figure size 432x288 with 1 Axes>"
      ]
     },
     "metadata": {
      "needs_background": "light"
     },
     "output_type": "display_data"
    },
    {
     "data": {
      "text/plain": [
       "[<matplotlib.lines.Line2D at 0x7f7b31bc3790>]"
      ]
     },
     "execution_count": 172,
     "metadata": {},
     "output_type": "execute_result"
    },
    {
     "data": {
      "text/plain": [
       "[<matplotlib.lines.Line2D at 0x7f7b31bc3f10>]"
      ]
     },
     "execution_count": 172,
     "metadata": {},
     "output_type": "execute_result"
    },
    {
     "data": {
      "text/plain": [
       "[<matplotlib.lines.Line2D at 0x7f7b31b638d0>]"
      ]
     },
     "execution_count": 172,
     "metadata": {},
     "output_type": "execute_result"
    },
    {
     "data": {
      "text/plain": [
       "Text(0.5,0,'n')"
      ]
     },
     "execution_count": 172,
     "metadata": {},
     "output_type": "execute_result"
    },
    {
     "data": {
      "text/plain": [
       "Text(0,0.5,'perc of times optimal arm was played')"
      ]
     },
     "execution_count": 172,
     "metadata": {},
     "output_type": "execute_result"
    },
    {
     "data": {
      "text/plain": [
       "<matplotlib.legend.Legend at 0x7f7b31bc3fd0>"
      ]
     },
     "execution_count": 172,
     "metadata": {},
     "output_type": "execute_result"
    },
    {
     "data": {
      "image/png": "[encoded data removed]",
      "text/plain": [
       "<Figure size 432x288 with 1 Axes>"
      ]
     },
     "metadata": {
      "needs_background": "light"
     },
     "output_type": "display_data"
    },
    {
     "data": {
      "text/plain": [
       "[<matplotlib.lines.Line2D at 0x7f7b3187fd90>]"
      ]
     },
     "execution_count": 172,
     "metadata": {},
     "output_type": "execute_result"
    },
    {
     "data": {
      "text/plain": [
       "[<matplotlib.lines.Line2D at 0x7f7b3187f4d0>]"
      ]
     },
     "execution_count": 172,
     "metadata": {},
     "output_type": "execute_result"
    },
    {
     "data": {
      "text/plain": [
       "[<matplotlib.lines.Line2D at 0x7f7b3187fa10>]"
      ]
     },
     "execution_count": 172,
     "metadata": {},
     "output_type": "execute_result"
    },
    {
     "data": {
      "text/plain": [
       "Text(0.5,0,'n')"
      ]
     },
     "execution_count": 172,
     "metadata": {},
     "output_type": "execute_result"
    },
    {
     "data": {
      "text/plain": [
       "Text(0,0.5,'cum regret')"
      ]
     },
     "execution_count": 172,
     "metadata": {},
     "output_type": "execute_result"
    },
    {
     "data": {
      "text/plain": [
       "<matplotlib.legend.Legend at 0x7f7b3187f750>"
      ]
     },
     "execution_count": 172,
     "metadata": {},
     "output_type": "execute_result"
    },
    {
     "data": {
      "image/png": "[encoded data removed]",
      "text/plain": [
       "<Figure size 432x288 with 1 Axes>"
      ]
     },
     "metadata": {
      "needs_background": "light"
     },
     "output_type": "display_data"
    }
   ],
   "source": [
    "save = True\n",
    "problem_id = \"A\"\n",
    "\n",
    "#Plot regret vs rounds\n",
    "plt.plot(regret_avg_0 , color = \"yellow\", label = \"UCB\")\n",
    "plt.plot(regret_avg_1 , color = \"blue\", label = \"VaR-UCB\")\n",
    "plt.plot(regret_avg_2 , color = \"green\", label = \"VaR-ETC\")\n",
    "plt.xlabel('n')\n",
    "plt.ylabel('regret')\n",
    "plt.legend()\n",
    "if save == True:\n",
    "    plt.savefig('var_' + problem_id + '_reg.png')\n",
    "plt.show()\n",
    "\n",
    "#Plot percentage optimal vs rounds\n",
    "plt.plot(perc_optimal_avg_0 , color = \"yellow\", label = \"UCB\")\n",
    "plt.plot(perc_optimal_avg_1 , color = \"blue\", label = \"VaR-UCB\")\n",
    "plt.plot(perc_optimal_avg_2 , color = \"green\", label = \"VaR-ETC\")\n",
    "plt.xlabel('n')\n",
    "plt.ylabel('perc of times optimal arm was played')\n",
    "plt.legend()\n",
    "if save == True:\n",
    "    plt.savefig('var_' + problem_id + '_perc.png')\n",
    "plt.show()\n",
    "\n",
    "#Regret :\n",
    "plt.plot(cum_regret_avg_0 , color = \"yellow\", label = \"UCB\")\n",
    "plt.plot(cum_regret_avg_1, color = \"blue\", label = \"VaR-UCB\")\n",
    "plt.plot(cum_regret_avg_2 , color = \"green\", label = \"VaR-ETC\")\n",
    "plt.xlabel('n')\n",
    "plt.ylabel('cum regret')\n",
    "plt.legend()\n",
    "if save == True:\n",
    "    plt.savefig('var_' + problem_id + '_cumreg.png')\n",
    "plt.show()"
   ]
  },
  {
   "cell_type": "code",
   "execution_count": null,
   "metadata": {},
   "outputs": [],
   "source": []
  }
 ],
 "metadata": {
  "kernelspec": {
   "display_name": "Python 2",
   "language": "python",
   "name": "python2"
  },
  "language_info": {
   "codemirror_mode": {
    "name": "ipython",
    "version": 2
   },
   "file_extension": ".py",
   "mimetype": "text/x-python",
   "name": "python",
   "nbconvert_exporter": "python",
   "pygments_lexer": "ipython2",
   "version": "2.7.12"
  }
 },
 "nbformat": 4,
 "nbformat_minor": 2
}
