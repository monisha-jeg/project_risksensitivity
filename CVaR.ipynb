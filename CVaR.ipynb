{
 "cells": [
  {
   "cell_type": "code",
   "execution_count": 106,
   "metadata": {},
   "outputs": [],
   "source": [
    "from IPython.core.interactiveshell import InteractiveShell\n",
    "InteractiveShell.ast_node_interactivity = \"all\"\n",
    "import numpy as np\n",
    "from math import *\n",
    "from bandits import *\n",
    "from scipy.special import ndtri\n",
    "from scipy.stats import norm\n",
    "import matplotlib.pyplot as plt\n",
    "%matplotlib inline "
   ]
  },
  {
   "cell_type": "markdown",
   "metadata": {},
   "source": [
    "#### Bandit Setting"
   ]
  },
  {
   "cell_type": "code",
   "execution_count": 107,
   "metadata": {},
   "outputs": [],
   "source": [
    "#As in Paper 1\n",
    "#best mean arm = best var arm\n",
    "#Arms = [(1, 5), (5, 5)]\n",
    "#best mean arm != best var arm\n",
    "# Arms = [(1, 1), (3, 15)]\n",
    "#A\n",
    "Arms = [(2, 1), (3, 1.5), (4, 5), (2, 2.5), (1, 1.5)]\n",
    "#B\n",
    "# Arms = [(1, 1), (3, 4), (5, 15), (7, 1), (9, 15)]\n",
    "K = len(Arms)\n",
    "bandit = gaussian_bandit(K, Arms)\n",
    "\n",
    "#Parameters\n",
    "#Number of rounds\n",
    "n = 1000\n",
    "\n",
    "trials = 10"
   ]
  },
  {
   "cell_type": "code",
   "execution_count": 108,
   "metadata": {},
   "outputs": [],
   "source": [
    "def std_normal(y):\n",
    "    return np.exp(-(y**2)/2.)/sqrt(2.*pi)"
   ]
  },
  {
   "cell_type": "code",
   "execution_count": 109,
   "metadata": {},
   "outputs": [
    {
     "data": {
      "text/plain": [
       "[-0.0627128075074257,\n",
       " 0.47370306785153415,\n",
       " -0.6123660556460431,\n",
       " -1.261435315261966,\n",
       " -1.5262969321484658]"
      ]
     },
     "execution_count": 109,
     "metadata": {},
     "output_type": "execute_result"
    },
    {
     "data": {
      "text/plain": [
       "1"
      ]
     },
     "execution_count": 109,
     "metadata": {},
     "output_type": "execute_result"
    },
    {
     "data": {
      "text/plain": [
       "0.10313564037537139"
      ]
     },
     "execution_count": 109,
     "metadata": {},
     "output_type": "execute_result"
    }
   ],
   "source": [
    "epsilon = 0.05 #quantile\n",
    "alpha = 1. - epsilon\n",
    "\n",
    "#Best arm\n",
    "true_cvs = [arm[0] - sqrt(arm[1])*std_normal(ndtri(alpha))/(1.- alpha) for arm in Arms]\n",
    "true_cvs = [arm[0] - sqrt(arm[1])*std_normal(ndtri(alpha))/(1.- alpha) for arm in Arms]\n",
    "best_arm = np.argmax(true_cvs)\n",
    "cv_best = true_cvs[best_arm]\n",
    "true_cvs\n",
    "best_arm\n",
    "\n",
    "std_normal(ndtri(alpha))"
   ]
  },
  {
   "cell_type": "markdown",
   "metadata": {},
   "source": [
    "### UCB - Risk Neutral"
   ]
  },
  {
   "cell_type": "code",
   "execution_count": 93,
   "metadata": {},
   "outputs": [
    {
     "name": "stdout",
     "output_type": "stream",
     "text": [
      "('Regret', 1.1736470914553623)\n",
      "('Cumulative Regret', 1049.3022361722383)\n",
      "('Perc optimal', 0.0399)\n",
      "[9, 60, 908, 14, 9]\n",
      "[0.7164979355110688, 0.40872576397635, -0.83817172733385, -0.7352670491450013, -0.1847271905437562]\n"
     ]
    }
   ],
   "source": [
    "#UCB\n",
    "\n",
    "regret_trials_0 = []\n",
    "cum_regret_trials_0 = []\n",
    "perc_optimal_trials_0 = []\n",
    "for trial in range(trials):\n",
    "\n",
    "    #Sample means and variances\n",
    "    sample_rewards = [[] for k in range(K)]\n",
    "    sample_means = [0]*K\n",
    "#     sample_vars = [0]*K\n",
    "    net_rewards = []\n",
    "    net_cv = 0\n",
    "    #mean-variance values\n",
    "    cvs = [0]*K\n",
    "    #UCB values\n",
    "    Bs = [0]*K\n",
    "    #Number of times each arm is played\n",
    "    num_played = [0]*K\n",
    "    #Risk-averse regret\n",
    "    regret_till_now = 0\n",
    "    cum_regret_till_now = 0\n",
    "    regret = []\n",
    "    cum_regret = []\n",
    "    perc_optimal = []\n",
    "\n",
    "    for i in range(K):\n",
    "        #Pull arm\n",
    "        reward = bandit.pull_arm(i)\n",
    "        #Add reward to list of rewards\n",
    "        sample_rewards[i].append(reward)\n",
    "        net_rewards.append(reward)\n",
    "        #Update arm played count\n",
    "        num_played[i] += 1  \n",
    "        sample_means[i] = reward\n",
    "        \n",
    "        #Update CV\n",
    "        cvs[i] = reward\n",
    "        if i == 0:\n",
    "            net_cv = reward\n",
    "        else:   \n",
    "            net_rewards.sort()\n",
    "            net_cv = float(sum(net_rewards[:int(np.ceil(len(net_rewards)*epsilon))]\\\n",
    "                              ))/np.ceil(len(net_rewards)*epsilon)\n",
    "        \n",
    "        #Update regret\n",
    "        regret_till_now = cv_best - net_cv\n",
    "        cum_regret_till_now += cv_best - true_cvs[i]\n",
    "        regret.append(regret_till_now)\n",
    "        cum_regret.append(cum_regret_till_now)\n",
    "        perc_optimal.append(num_played[best_arm]/float(i+1)) \n",
    "\n",
    "    for t in range(K+1, n+1):\n",
    "        #Calculate  UCBs\n",
    "        Bs = [mean + np.sqrt(8*np.log(t)/num) for mean, num in zip(sample_means, num_played)]\n",
    "\n",
    "        #Pull best arm\n",
    "        arm_to_pull = np.argmax(Bs)\n",
    "        reward = bandit.pull_arm(arm_to_pull)\n",
    "        sample_rewards[arm_to_pull].append(reward)\n",
    "        net_rewards.append(reward)\n",
    "        num_played[arm_to_pull] += 1\n",
    "\n",
    "        #Update means\n",
    "        sample_means[arm_to_pull] = np.mean(sample_rewards[arm_to_pull])\n",
    "        sample_rewards[arm_to_pull].sort()\n",
    "        net_rewards.sort()\n",
    "        cvs[arm_to_pull] = float(sum(sample_rewards[arm_to_pull][:int(np.ceil(len(sample_rewards[arm_to_pull])*epsilon))]\\\n",
    "                          ))/np.ceil(len(sample_rewards[arm_to_pull])*epsilon)\n",
    "        net_cv = float(sum(net_rewards[:int(np.ceil(len(net_rewards)*epsilon))]\\\n",
    "                          ))/np.ceil(len(net_rewards)*epsilon)\n",
    "        #Update regret\n",
    "        regret_till_now = cv_best - net_cv\n",
    "        cum_regret_till_now += cv_best - true_cvs[arm_to_pull]\n",
    "        regret.append(regret_till_now)\n",
    "        cum_regret.append(cum_regret_till_now)\n",
    "        perc_optimal.append(num_played[best_arm]/float(t)) \n",
    "\n",
    "    regret_trials_0.append(regret)\n",
    "    cum_regret_trials_0.append(cum_regret)\n",
    "    perc_optimal_trials_0.append(perc_optimal)\n",
    "\n",
    "regret_avg_0 = np.mean(np.array(regret_trials_0), axis = 0)\n",
    "cum_regret_avg_0 = np.mean(np.array(cum_regret_trials_0), axis = 0)\n",
    "perc_optimal_avg_0 = np.mean(np.array(perc_optimal_trials_0), axis = 0)\n",
    "print(\"Regret\", regret_avg_0[-1])\n",
    "print(\"Cumulative Regret\", cum_regret_avg_0[-1])\n",
    "print(\"Perc optimal\", perc_optimal_avg_0[-1])\n",
    "print(num_played)  #of the last trial\n",
    "print(cvs)"
   ]
  },
  {
   "cell_type": "markdown",
   "metadata": {},
   "source": [
    "### MARAB"
   ]
  },
  {
   "cell_type": "code",
   "execution_count": 82,
   "metadata": {},
   "outputs": [
    {
     "name": "stdout",
     "output_type": "stream",
     "text": [
      "('Regret', 0.3837071864010945)\n",
      "('Cumulative Regret', 400.10756643733714)\n",
      "('Perc optimal', 0.5872872872872873)\n",
      "[971, 5, 14, 5, 5]\n",
      "[-0.07311800690199848, 0.1811367130371333, -0.3853111804970082, 0.029924700811717164, -0.6085954784414127]\n"
     ]
    }
   ],
   "source": [
    "#refer paper\n",
    "C = 2 # greater than 0\n",
    "\n",
    "regret_trials_1 = []\n",
    "perc_optimal_trials_1 = []\n",
    "cum_regret_trials_1 = []\n",
    "for trial in range(trials):\n",
    "    \n",
    "    #Sample means and variances\n",
    "    sample_rewards = [[] for k in range(K)]\n",
    "#     sample_means = [0]*K\n",
    "#     sample_vars = [0]*K\n",
    "    net_rewards = []\n",
    "    net_cv = 0\n",
    "    \n",
    "    #cvar values\n",
    "    cvs = [0]*K\n",
    "    #indices\n",
    "    Is = [0]*K\n",
    "    #Number of times each arm is played\n",
    "    num_played = [0]*K\n",
    "    #Risk-averse regret\n",
    "    regret_till_now = 0\n",
    "    cum_regret_till_now = 0\n",
    "    regret = []\n",
    "    cum_regret = []\n",
    "    perc_optimal = []\n",
    "    #rounds count\n",
    "    rounds = 0\n",
    "    \n",
    "    for i in range(K):\n",
    "        #Pull arm\n",
    "        reward = bandit.pull_arm(i)\n",
    "        #Add reward to list of rewards\n",
    "        sample_rewards[i].append(reward)\n",
    "        net_rewards.append(reward)\n",
    "        #Update arm played count\n",
    "        num_played[i] += 1   \n",
    "        \n",
    "        #Update cvar\n",
    "        cvs[i] = reward\n",
    "        if i == 0:\n",
    "            net_cv = reward\n",
    "        else:   \n",
    "            net_rewards.sort()\n",
    "            net_cv = float(sum(net_rewards[:int(np.ceil(len(net_rewards)*epsilon))]\\\n",
    "                              ))/np.ceil(len(net_rewards)*epsilon)\n",
    "        \n",
    "        #Update regret\n",
    "        regret_till_now = cv_best - net_cv\n",
    "        cum_regret_till_now += cv_best - true_cvs[i]\n",
    "        regret.append(regret_till_now)\n",
    "        cum_regret.append(cum_regret_till_now)\n",
    "        perc_optimal.append(num_played[best_arm]) \n",
    "        \n",
    "    \n",
    "    for i in range(K, n):\n",
    "        #indices\n",
    "        Is = [cv - sqrt(C*np.log(np.ceil(i*epsilon))/np.ceil(epsilon*num)) for cv, num in zip(cvs, num_played)]\n",
    "        arm_to_pull = np.argmax(Is)\n",
    "        \n",
    "        reward = bandit.pull_arm(arm_to_pull)\n",
    "        sample_rewards[arm_to_pull].append(reward)\n",
    "        net_rewards.append(reward)\n",
    "        num_played[arm_to_pull] += 1\n",
    "        \n",
    "        #Update cvar\n",
    "        sample_rewards[arm_to_pull].sort()\n",
    "        net_rewards.sort()\n",
    "        cvs[arm_to_pull] = float(sum(sample_rewards[arm_to_pull][:int(np.ceil(len(sample_rewards[arm_to_pull])*epsilon))]\\\n",
    "                          ))/np.ceil(len(sample_rewards[arm_to_pull])*epsilon)\n",
    "        net_cv = float(sum(net_rewards[:int(np.ceil(len(net_rewards)*epsilon))]\\\n",
    "                          ))/np.ceil(len(net_rewards)*epsilon)\n",
    "        \n",
    "        #Update regret\n",
    "        regret_till_now = cv_best - net_cv\n",
    "        cum_regret_till_now += cv_best - true_cvs[arm_to_pull]\n",
    "        regret.append(regret_till_now)\n",
    "        cum_regret.append(cum_regret_till_now)\n",
    "        perc_optimal.append(num_played[best_arm]/float(i))\n",
    "    \n",
    "    regret_trials_1.append(regret)\n",
    "    cum_regret_trials_1.append(cum_regret)\n",
    "    perc_optimal_trials_1.append(perc_optimal)\n",
    "    \n",
    "regret_avg_1 = np.mean(np.array(regret_trials_1), axis = 0)\n",
    "perc_optimal_avg_1 = np.mean(np.array(perc_optimal_trials_1), axis = 0)\n",
    "cum_regret_avg_1 = np.mean(np.array(cum_regret_trials_1), axis = 0)\n",
    "print(\"Regret\", regret_avg_1[-1])\n",
    "print(\"Cumulative Regret\", cum_regret_avg_1[-1])\n",
    "print(\"Perc optimal\", perc_optimal_avg_1[-1])\n",
    "print(num_played)  #of the last trial\n",
    "print(cvs)"
   ]
  },
  {
   "cell_type": "markdown",
   "metadata": {},
   "source": [
    "### MARABOUT"
   ]
  },
  {
   "cell_type": "code",
   "execution_count": 83,
   "metadata": {},
   "outputs": [],
   "source": [
    "def cvar_compute(rewards):\n",
    "    n = len(rewards)\n",
    "    cvar = rewards[int(np.ceil(n*epsilon)) - 1] + \\\n",
    "            sum([rewards[j] - rewards[int(np.ceil(n*epsilon)) - 1] \\\n",
    "             for j in range(int(np.floor(n*epsilon)))])/(n*epsilon)\n",
    "        \n",
    "    return cvar"
   ]
  },
  {
   "cell_type": "code",
   "execution_count": 100,
   "metadata": {},
   "outputs": [
    {
     "name": "stdout",
     "output_type": "stream",
     "text": [
      "('Regret', 1.0936513905230694)\n",
      "('Cumulative Regret', 727.3696794471945)\n",
      "('Perc optimal', 0.37257257257257254)\n",
      "[212, 457, 73, 130, 128]\n",
      "[-0.2894417937263756, 0.6446966442889311, -2.3094466775386, -1.0195401328282014, -1.0494773861567372]\n"
     ]
    }
   ],
   "source": [
    "#refer paper\n",
    "C = 1 # greater than 2\n",
    "beta = 0.5 # belongs to [0,1]\n",
    "\n",
    "regret_trials_2 = []\n",
    "perc_optimal_trials_2 = []\n",
    "cum_regret_trials_2 = []\n",
    "for trial in range(trials):\n",
    "    \n",
    "    #Sample means and variances\n",
    "    sample_rewards = [[] for k in range(K)]\n",
    "    net_rewards = []\n",
    "    net_cv = 0\n",
    "    \n",
    "    #cvar values\n",
    "    cvs = [0]*K\n",
    "    #indices\n",
    "    Is = [0]*K\n",
    "    #Number of times each arm is played\n",
    "    num_played = [0]*K\n",
    "    #Risk-averse regret\n",
    "    regret_till_now = 0\n",
    "    cum_regret_till_now = 0\n",
    "    regret = []\n",
    "    cum_regret = []\n",
    "    perc_optimal = []\n",
    "    #rounds count\n",
    "    rounds = 0\n",
    "    \n",
    "    for i in range(K):\n",
    "        #Pull arm\n",
    "        reward = bandit.pull_arm(i)\n",
    "        #Add reward to list of rewards\n",
    "        sample_rewards[i].append(reward)\n",
    "        net_rewards.append(reward)\n",
    "        #Update arm played count\n",
    "        num_played[i] += 1   \n",
    "        \n",
    "        #Update cvar\n",
    "        cvs[i] = reward\n",
    "        if i == 0:\n",
    "            net_cv = reward\n",
    "        else:   \n",
    "            net_rewards.sort()\n",
    "            net_cv = cvar_compute(net_rewards)\n",
    "        \n",
    "        #Update regret        \n",
    "        cum_regret_till_now += cv_best - true_cvs[i]\n",
    "        regret_till_now = cv_best - net_cv\n",
    "        regret.append(regret_till_now)\n",
    "        cum_regret.append(cum_regret_till_now)\n",
    "        perc_optimal.append(num_played[best_arm]) \n",
    "        \n",
    "    \n",
    "    for i in range(K, n):\n",
    "        #indices\n",
    "        Is = [cv + sqrt(11*(C*np.log(i) + beta*np.log(3))/(epsilon*num)) for cv, num in zip(cvs, num_played)]\n",
    "        arm_to_pull = np.argmax(Is)\n",
    "        \n",
    "        reward = bandit.pull_arm(arm_to_pull)\n",
    "        sample_rewards[arm_to_pull].append(reward)\n",
    "        net_rewards.append(reward)\n",
    "        num_played[arm_to_pull] += 1\n",
    "        \n",
    "        #Update cvar\n",
    "        sample_rewards[arm_to_pull].sort()\n",
    "        net_rewards.sort()\n",
    "        cvs[arm_to_pull] = cvar_compute(sample_rewards[arm_to_pull])        \n",
    "        net_cv = cvar_compute(net_rewards)\n",
    "        \n",
    "        #Update regret\n",
    "        regret_till_now = cv_best - net_cv\n",
    "        cum_regret_till_now += cv_best - true_cvs[arm_to_pull]        \n",
    "        regret.append(regret_till_now)\n",
    "        cum_regret.append(cum_regret_till_now)\n",
    "        perc_optimal.append(num_played[best_arm]/float(i))\n",
    "    \n",
    "    regret_trials_2.append(regret)\n",
    "    perc_optimal_trials_2.append(perc_optimal)\n",
    "    cum_regret_trials_2.append(cum_regret)\n",
    "    \n",
    "regret_avg_2 = np.mean(np.array(regret_trials_2), axis = 0)\n",
    "perc_optimal_avg_2 = np.mean(np.array(perc_optimal_trials_2), axis = 0)\n",
    "cum_regret_avg_2 = np.mean(np.array(cum_regret_trials_2), axis = 0)\n",
    "print(\"Regret\", regret_avg_2[-1])\n",
    "print(\"Cumulative Regret\", cum_regret_avg_2[-1])\n",
    "print(\"Perc optimal\", perc_optimal_avg_2[-1])\n",
    "print(num_played)  #of the last trial\n",
    "print(cvs)"
   ]
  },
  {
   "cell_type": "markdown",
   "metadata": {},
   "source": [
    "### cVaR-ETC (New)"
   ]
  },
  {
   "cell_type": "code",
   "execution_count": 103,
   "metadata": {},
   "outputs": [
    {
     "name": "stdout",
     "output_type": "stream",
     "text": [
      "('Regret', 0.6570885247632989)\n",
      "('Cumulative Regret', 582.6713203471872)\n",
      "('Perc optimal', 0.47750000000000004)\n",
      "[15, 940, 15, 15, 15]\n",
      "[-0.40184644117153967, 0.6793479236774999, 1.3747923040081491, -0.6862796315104638, -2.2830562414087097]\n"
     ]
    }
   ],
   "source": [
    "tau = 15\n",
    "\n",
    "regret_trials_3 = []\n",
    "cum_regret_trials_3 = []\n",
    "perc_optimal_trials_3 = []\n",
    "for trial in range(trials):\n",
    "    \n",
    "    #Sample means and variances\n",
    "    sample_rewards = [[] for k in range(K)]\n",
    "    net_rewards = []\n",
    "    net_cv = 0\n",
    "    #mean-variance values\n",
    "    cvs = [0]*K\n",
    "    #Number of times each arm is played\n",
    "    num_played = [0]*K\n",
    "    #Risk-averse regret\n",
    "    regret_till_now = 0\n",
    "    cum_regret_till_now = 0\n",
    "    regret = []\n",
    "    cum_regret = []\n",
    "    perc_optimal = []\n",
    "\n",
    "\n",
    "    for i in range(K):\n",
    "        for j in range(tau):\n",
    "            #Pull arm\n",
    "            reward = bandit.pull_arm(i)\n",
    "            #Add reward to list of rewards\n",
    "            sample_rewards[i].append(reward)\n",
    "            net_rewards.append(reward)\n",
    "            #Update arm played count\n",
    "            num_played[i] += 1   \n",
    "            \n",
    "            #Update CV\n",
    "            if j == 0:\n",
    "                cvs[i] = reward\n",
    "            else:\n",
    "                sample_rewards[i].sort()\n",
    "                cvs[i] = float(sum(sample_rewards[i][:int(np.ceil(len(sample_rewards[i])*epsilon))]\\\n",
    "                          ))/np.ceil(len(sample_rewards[i])*epsilon)\n",
    "            if i == 0 and j == 0: \n",
    "                net_cv = reward\n",
    "            else:\n",
    "                net_rewards.sort()            \n",
    "                net_cv = float(sum(net_rewards[:int(np.ceil(len(net_rewards)*epsilon))]\\\n",
    "                          ))/np.ceil(len(net_rewards)*epsilon)\n",
    "            \n",
    "            #Update regret\n",
    "            regret_till_now = cv_best - net_cv\n",
    "            cum_regret_till_now += cv_best - true_cvs[i]\n",
    "            regret.append(regret_till_now)\n",
    "            cum_regret.append(cum_regret_till_now)\n",
    "            perc_optimal.append(num_played[best_arm]/float(i*tau+j+1)) \n",
    "            \n",
    "\n",
    "    exploit_arm = np.argmax(cvs)\n",
    "    for i in range(tau*K+1, n+1):\n",
    "        reward = bandit.pull_arm(exploit_arm)\n",
    "        sample_rewards[exploit_arm].append(reward)\n",
    "        net_rewards.append(reward)\n",
    "        num_played[exploit_arm] += 1\n",
    "        #Update CV\n",
    "        sample_rewards[exploit_arm].sort()\n",
    "        net_rewards.sort()\n",
    "        cvs[exploit_arm] = float(sum(sample_rewards[exploit_arm][:int(np.ceil(len(sample_rewards[exploit_arm])*epsilon))]\\\n",
    "                          ))/np.ceil(len(sample_rewards[exploit_arm])*epsilon)\n",
    "        net_cv = float(sum(net_rewards[:int(np.ceil(len(net_rewards)*epsilon))]\\\n",
    "                          ))/np.ceil(len(net_rewards)*epsilon)\n",
    "        \n",
    "        #Update regret\n",
    "        regret_till_now = cv_best - net_cv\n",
    "        cum_regret_till_now += cv_best - true_cvs[exploit_arm]\n",
    "        regret.append(regret_till_now)\n",
    "        cum_regret.append(cum_regret_till_now)\n",
    "        perc_optimal.append(num_played[best_arm]/float(i))\n",
    "\n",
    "    regret_trials_3.append(regret)\n",
    "    cum_regret_trials_3.append(cum_regret)\n",
    "    perc_optimal_trials_3.append(perc_optimal)  \n",
    "\n",
    "regret_avg_3 = np.mean(np.array(regret_trials_3), axis = 0)\n",
    "cum_regret_avg_3 = np.mean(np.array(cum_regret_trials_3), axis = 0)\n",
    "perc_optimal_avg_3 = np.mean(np.array(perc_optimal_trials_3), axis = 0)\n",
    "print(\"Regret\", regret_avg_3[-1])\n",
    "print(\"Cumulative Regret\", cum_regret_avg_3[-1])\n",
    "print(\"Perc optimal\", perc_optimal_avg_3[-1])\n",
    "print(num_played)  #of the last trial\n",
    "print(cvs)"
   ]
  },
  {
   "cell_type": "code",
   "execution_count": 104,
   "metadata": {},
   "outputs": [
    {
     "data": {
      "text/plain": [
       "[<matplotlib.lines.Line2D at 0x7f02ae0849d0>]"
      ]
     },
     "execution_count": 104,
     "metadata": {},
     "output_type": "execute_result"
    },
    {
     "data": {
      "text/plain": [
       "[<matplotlib.lines.Line2D at 0x7f02ae084fd0>]"
      ]
     },
     "execution_count": 104,
     "metadata": {},
     "output_type": "execute_result"
    },
    {
     "data": {
      "text/plain": [
       "[<matplotlib.lines.Line2D at 0x7f02ae0d0450>]"
      ]
     },
     "execution_count": 104,
     "metadata": {},
     "output_type": "execute_result"
    },
    {
     "data": {
      "text/plain": [
       "[<matplotlib.lines.Line2D at 0x7f02ae0d0810>]"
      ]
     },
     "execution_count": 104,
     "metadata": {},
     "output_type": "execute_result"
    },
    {
     "data": {
      "text/plain": [
       "Text(0.5,0,'n')"
      ]
     },
     "execution_count": 104,
     "metadata": {},
     "output_type": "execute_result"
    },
    {
     "data": {
      "text/plain": [
       "Text(0,0.5,'regret')"
      ]
     },
     "execution_count": 104,
     "metadata": {},
     "output_type": "execute_result"
    },
    {
     "data": {
      "text/plain": [
       "<matplotlib.legend.Legend at 0x7f02ae084f10>"
      ]
     },
     "execution_count": 104,
     "metadata": {},
     "output_type": "execute_result"
    },
    {
     "data": {
      "image/png": "[encoded data removed]",
      "text/plain": [
       "<Figure size 432x288 with 1 Axes>"
      ]
     },
     "metadata": {
      "needs_background": "light"
     },
     "output_type": "display_data"
    },
    {
     "data": {
      "text/plain": [
       "[<matplotlib.lines.Line2D at 0x7f02ae01abd0>]"
      ]
     },
     "execution_count": 104,
     "metadata": {},
     "output_type": "execute_result"
    },
    {
     "data": {
      "text/plain": [
       "[<matplotlib.lines.Line2D at 0x7f02ae0270d0>]"
      ]
     },
     "execution_count": 104,
     "metadata": {},
     "output_type": "execute_result"
    },
    {
     "data": {
      "text/plain": [
       "[<matplotlib.lines.Line2D at 0x7f02ae0276d0>]"
      ]
     },
     "execution_count": 104,
     "metadata": {},
     "output_type": "execute_result"
    },
    {
     "data": {
      "text/plain": [
       "[<matplotlib.lines.Line2D at 0x7f02ae027190>]"
      ]
     },
     "execution_count": 104,
     "metadata": {},
     "output_type": "execute_result"
    },
    {
     "data": {
      "text/plain": [
       "Text(0.5,0,'n')"
      ]
     },
     "execution_count": 104,
     "metadata": {},
     "output_type": "execute_result"
    },
    {
     "data": {
      "text/plain": [
       "Text(0,0.5,'perc of times optimal arm was played')"
      ]
     },
     "execution_count": 104,
     "metadata": {},
     "output_type": "execute_result"
    },
    {
     "data": {
      "text/plain": [
       "<matplotlib.legend.Legend at 0x7f02ae027790>"
      ]
     },
     "execution_count": 104,
     "metadata": {},
     "output_type": "execute_result"
    },
    {
     "data": {
      "image/png": "[encoded data removed]",
      "text/plain": [
       "<Figure size 432x288 with 1 Axes>"
      ]
     },
     "metadata": {
      "needs_background": "light"
     },
     "output_type": "display_data"
    },
    {
     "data": {
      "text/plain": [
       "[<matplotlib.lines.Line2D at 0x7f02adfaf9d0>]"
      ]
     },
     "execution_count": 104,
     "metadata": {},
     "output_type": "execute_result"
    },
    {
     "data": {
      "text/plain": [
       "[<matplotlib.lines.Line2D at 0x7f02adf39050>]"
      ]
     },
     "execution_count": 104,
     "metadata": {},
     "output_type": "execute_result"
    },
    {
     "data": {
      "text/plain": [
       "[<matplotlib.lines.Line2D at 0x7f02adf394d0>]"
      ]
     },
     "execution_count": 104,
     "metadata": {},
     "output_type": "execute_result"
    },
    {
     "data": {
      "text/plain": [
       "[<matplotlib.lines.Line2D at 0x7f02adf39810>]"
      ]
     },
     "execution_count": 104,
     "metadata": {},
     "output_type": "execute_result"
    },
    {
     "data": {
      "text/plain": [
       "Text(0.5,0,'n')"
      ]
     },
     "execution_count": 104,
     "metadata": {},
     "output_type": "execute_result"
    },
    {
     "data": {
      "text/plain": [
       "Text(0,0.5,'cum regret')"
      ]
     },
     "execution_count": 104,
     "metadata": {},
     "output_type": "execute_result"
    },
    {
     "data": {
      "text/plain": [
       "<matplotlib.legend.Legend at 0x7f02adf39c50>"
      ]
     },
     "execution_count": 104,
     "metadata": {},
     "output_type": "execute_result"
    },
    {
     "data": {
      "image/png": "[encoded data removed]",
      "text/plain": [
       "<Figure size 432x288 with 1 Axes>"
      ]
     },
     "metadata": {
      "needs_background": "light"
     },
     "output_type": "display_data"
    }
   ],
   "source": [
    "save = True\n",
    "problem_id = \"A\"\n",
    "\n",
    "#Plot regret vs rounds\n",
    "plt.plot(regret_avg_0 , color = \"yellow\", label = \"UCB\")\n",
    "plt.plot(regret_avg_1 , color = \"blue\", label = \"MARAB\")\n",
    "plt.plot(regret_avg_2 , color = \"green\", label = \"MARABOUT\")\n",
    "plt.plot(regret_avg_3 , color = \"red\", label = \"cVaR-ETC\")\n",
    "plt.xlabel('n')\n",
    "plt.ylabel('regret')\n",
    "plt.legend()\n",
    "if save == True:\n",
    "    plt.savefig('cvar_' + problem_id + '_reg.png')\n",
    "plt.show()\n",
    "\n",
    "#Plot percentage optimal vs rounds\n",
    "plt.plot(perc_optimal_avg_0 , color = \"yellow\", label = \"UCB\")\n",
    "plt.plot(perc_optimal_avg_1 , color = \"blue\", label = \"MARAB\")\n",
    "plt.plot(perc_optimal_avg_2 , color = \"green\", label = \"MARABOUT\")\n",
    "plt.plot(perc_optimal_avg_3 , color = \"red\", label = \"cVaR-ETC\")\n",
    "plt.xlabel('n')\n",
    "plt.ylabel('perc of times optimal arm was played')\n",
    "plt.legend()\n",
    "if save == True:\n",
    "    plt.savefig('cvar_' + problem_id + '_perc.png')\n",
    "plt.show()\n",
    "\n",
    "#Regret: shr\n",
    "plt.plot(cum_regret_avg_0 , color = \"yellow\", label = \"UCB\")\n",
    "plt.plot(cum_regret_avg_1, color = \"blue\", label = \"MARAB\")\n",
    "plt.plot(cum_regret_avg_2, color = \"green\", label = \"MARABOUT\")\n",
    "plt.plot(cum_regret_avg_3 , color = \"red\", label = \"cVaR-ETC\")\n",
    "plt.xlabel('n')\n",
    "plt.ylabel('cum regret')\n",
    "plt.legend()\n",
    "if save == True:\n",
    "    plt.savefig('cvar_' + problem_id + '_cumreg.png')\n",
    "plt.show()"
   ]
  },
  {
   "cell_type": "code",
   "execution_count": null,
   "metadata": {},
   "outputs": [],
   "source": []
  }
 ],
 "metadata": {
  "kernelspec": {
   "display_name": "Python 2",
   "language": "python",
   "name": "python2"
  },
  "language_info": {
   "codemirror_mode": {
    "name": "ipython",
    "version": 2
   },
   "file_extension": ".py",
   "mimetype": "text/x-python",
   "name": "python",
   "nbconvert_exporter": "python",
   "pygments_lexer": "ipython2",
   "version": "2.7.12"
  }
 },
 "nbformat": 4,
 "nbformat_minor": 2
}
