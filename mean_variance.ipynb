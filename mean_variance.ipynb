{
 "cells": [
  {
   "cell_type": "code",
   "execution_count": 3,
   "metadata": {},
   "outputs": [
    {
     "name": "stdout",
     "output_type": "stream",
     "text": [
      "Bandit born\n"
     ]
    }
   ],
   "source": [
    "from IPython.core.interactiveshell import InteractiveShell\n",
    "InteractiveShell.ast_node_interactivity = \"all\"\n",
    "import numpy as np\n",
    "from math import *\n",
    "from bandits import *"
   ]
  },
  {
   "cell_type": "markdown",
   "metadata": {},
   "source": [
    "#### Bandit Setting"
   ]
  },
  {
   "cell_type": "code",
   "execution_count": 310,
   "metadata": {},
   "outputs": [
    {
     "data": {
      "text/plain": [
       "[0, 0]"
      ]
     },
     "execution_count": 310,
     "metadata": {},
     "output_type": "execute_result"
    },
    {
     "data": {
      "text/plain": [
       "0"
      ]
     },
     "execution_count": 310,
     "metadata": {},
     "output_type": "execute_result"
    }
   ],
   "source": [
    "#As in Paper 1\n",
    "#2 Arms, rho : 0, 1, 5\n",
    "#Arms = [(1, 2), (5, 10)]\n",
    "#Special Case\n",
    "Arms = [(1, 0), (5, 0)]\n",
    "#Experimental\n",
    "#Arms = [(1, 1), (5, 10), (10, 10), (15, 10), (20, 10)]\n",
    "# A - rho : 0, 1.6, 2\n",
    "#Arms = [(1, 2), (3, 4), (5, 9), (7, 12), (10, 15)]\n",
    "# # B - rho : 0, 1.6, 2\n",
    "# Arms = [(1, 1), (5, 15), (10, 4), (11, 10), (15, 15)]\n",
    "K = len(Arms)\n",
    "bandit = gaussian_bandit(K, Arms)\n",
    "\n",
    "#Parameters\n",
    "#Risk tolerance paameter\n",
    "rho = 0\n",
    "#Number of rounds\n",
    "n = 1000\n",
    "\n",
    "trials = 10\n",
    "\n",
    "#Best arm\n",
    "true_mvs = [var - rho*mean for mean, var in Arms] \n",
    "best_arm = np.argmin(true_mvs)\n",
    "mv_best = true_mvs[best_arm]\n",
    "true_mvs\n",
    "best_arm"
   ]
  },
  {
   "cell_type": "markdown",
   "metadata": {},
   "source": [
    "##### UCB - Risk Neutral"
   ]
  },
  {
   "cell_type": "code",
   "execution_count": 316,
   "metadata": {},
   "outputs": [
    {
     "name": "stdout",
     "output_type": "stream",
     "text": [
      "('Variance', 0.015984000000000005)\n",
      "('Regret', 0.015984)\n",
      "('Cumulative Regret', 0.0)\n",
      "('Perc optimal', 0.0010000000000000002)\n",
      "[1, 999]\n"
     ]
    }
   ],
   "source": [
    "#UCB\n",
    "\n",
    "var_trials_0 = []\n",
    "regret_trials_0 = []\n",
    "cum_regret_trials_0 = []\n",
    "perc_optimal_trials_0 = []\n",
    "for trial in range(trials):\n",
    "\n",
    "    #Sample means and variances\n",
    "    sample_rewards = [[] for k in range(K)]\n",
    "    sample_means = [0]*K\n",
    "    sample_vars = [0]*K\n",
    "    net_rewards = []\n",
    "    net_mv = 0\n",
    "    #mean-variance values\n",
    "    mvs = [0]*K\n",
    "    #UCB values\n",
    "    Bs = [0]*K\n",
    "    #Number of times each arm is played\n",
    "    num_played = [0]*K\n",
    "    #Risk-averse regret\n",
    "    regret_till_now = 0\n",
    "    cum_regret_till_now = 0\n",
    "    regret = []\n",
    "    cum_regret = []\n",
    "    perc_optimal = []\n",
    "\n",
    "    for i in range(K):\n",
    "        #Pull arm\n",
    "        reward = bandit.pull_arm(i)\n",
    "        #Add reward to list of rewards\n",
    "        sample_rewards[i].append(reward)\n",
    "        net_rewards.append(reward)\n",
    "        #Add reward to mean, variance is zero so no need to update\n",
    "        sample_means[i] = reward\n",
    "        #Update arm played count\n",
    "        num_played[i] += 1  \n",
    "        mvs[i] = sample_vars[i] - rho*sample_means[i]   \n",
    "        net_mv = np.var(net_rewards) - rho*np.mean(net_rewards)\n",
    "        #Update regret\n",
    "        regret_till_now = net_mv - mv_best\n",
    "        cum_regret_till_now = true_mvs[i] - mv_best\n",
    "        regret.append(regret_till_now)\n",
    "        cum_regret.append(cum_regret_till_now)\n",
    "        perc_optimal.append(num_played[best_arm]/float(i+1)) \n",
    "\n",
    "    for t in range(K+1, n+1):\n",
    "        #Calculate  LCBs\n",
    "        Bs = [mean - np.sqrt(8*np.log(t)/num) for mean, num in zip(sample_means, num_played)]\n",
    "\n",
    "        #Pull best arm\n",
    "        arm_to_pull = np.argmax(Bs)\n",
    "        reward = bandit.pull_arm(arm_to_pull)\n",
    "        sample_rewards[arm_to_pull].append(reward)\n",
    "        net_rewards.append(reward)\n",
    "        num_played[arm_to_pull] += 1\n",
    "\n",
    "        #Update means\n",
    "        sample_means[arm_to_pull] = np.mean(sample_rewards[arm_to_pull])\n",
    "        sample_vars[arm_to_pull] = np.var(sample_rewards[arm_to_pull])\n",
    "        mvs[arm_to_pull] = sample_vars[arm_to_pull] - rho*sample_means[arm_to_pull]   \n",
    "        net_mv = np.var(net_rewards) - rho*np.mean(net_rewards)\n",
    "\n",
    "        #Update regret\n",
    "        regret_till_now = net_mv - mv_best\n",
    "        cum_regret_till_now += true_mvs[arm_to_pull] - mv_best\n",
    "        regret.append(regret_till_now)\n",
    "        cum_regret.append(cum_regret_till_now)\n",
    "        perc_optimal.append(num_played[best_arm]/float(t)) \n",
    "\n",
    "    regret_trials_0.append(regret)\n",
    "    cum_regret_trials_0.append(cum_regret)\n",
    "    perc_optimal_trials_0.append(perc_optimal)\n",
    "    var_trials_0.append(np.var(net_rewards))\n",
    "\n",
    "var_avg_0 = np.mean(var_trials_0)\n",
    "regret_avg_0 = np.mean(np.array(regret_trials_0), axis = 0)\n",
    "cum_regret_avg_0 = np.mean(np.array(cum_regret_trials_0), axis = 0)\n",
    "perc_optimal_avg_0 = np.mean(np.array(perc_optimal_trials_0), axis = 0)\n",
    "print(\"Variance\", var_avg_0)\n",
    "print(\"Regret\", regret_avg_0[-1])\n",
    "print(\"Cumulative Regret\", cum_regret_avg_0[-1])\n",
    "print(\"Perc optimal\", perc_optimal_avg_0[-1])\n",
    "print(num_played)  #of the last trial\n",
    "#print(len(sample_means), sample_means, sample_vars, mvs)"
   ]
  },
  {
   "cell_type": "markdown",
   "metadata": {},
   "source": [
    "### MV - LCB (Paper 1)"
   ]
  },
  {
   "cell_type": "code",
   "execution_count": 312,
   "metadata": {},
   "outputs": [
    {
     "name": "stdout",
     "output_type": "stream",
     "text": [
      "('Variance', 4.0)\n",
      "('Regret', 4.0)\n",
      "('Cumulative Regret', 0.0)\n",
      "('Perc optimal', 0.5)\n",
      "[500, 500]\n"
     ]
    }
   ],
   "source": [
    "#MV-LCB\n",
    "\n",
    "#delta value\n",
    "confidence = 1.0/(n**2)\n",
    "#confidence = 0.00001\n",
    "\n",
    "var_trials_1 = []\n",
    "regret_trials_1 = []\n",
    "cum_regret_trials_1 = []\n",
    "perc_optimal_trials_1 = []\n",
    "for trial in range(trials):\n",
    "\n",
    "    #Sample means and variances\n",
    "    sample_rewards = [[] for k in range(K)]\n",
    "    sample_means = [0]*K\n",
    "    sample_vars = [0]*K\n",
    "    net_rewards = []\n",
    "    net_mv = 0\n",
    "    #mean-variance values\n",
    "    mvs = [0]*K\n",
    "    #B values (LCB) - refer paper\n",
    "    Bs = [0]*K\n",
    "    #Number of times each arm is played\n",
    "    num_played = [0]*K\n",
    "    #Risk-averse regret\n",
    "    regret_till_now = 0\n",
    "    cum_regret_till_now = 0\n",
    "    regret = []\n",
    "    cum_regret = []\n",
    "    perc_optimal = []\n",
    "\n",
    "    for i in range(K):\n",
    "        #Pull arm\n",
    "        reward = bandit.pull_arm(i)\n",
    "        #Add reward to list of rewards\n",
    "        sample_rewards[i].append(reward)\n",
    "        net_rewards.append(reward)\n",
    "        #Add reward to mean, variance is zero so no need to update\n",
    "        sample_means[i] = reward\n",
    "        #Update arm played count\n",
    "        num_played[i] += 1   \n",
    "        #Update MV\n",
    "        mvs[i] = -rho*reward\n",
    "        net_mv = np.var(net_rewards) - rho*np.mean(net_rewards)\n",
    "        #Update regret\n",
    "        regret_till_now = net_mv - mv_best\n",
    "        cum_regret_till_now += true_mvs[i] - mv_best\n",
    "        cum_regret_till_now = 0\n",
    "        regret.append(regret_till_now)\n",
    "        cum_regret.append(cum_regret_till_now)\n",
    "        perc_optimal.append(num_played[best_arm]/float(i+1)) \n",
    "\n",
    "    for t in range(K+1, n+1):\n",
    "        #Calculate  LCBs\n",
    "        Bs = [mv - (5+rho)*np.sqrt(np.log(1.0/confidence)/(2*num)) for mv, num in zip(mvs, num_played)]\n",
    "        #print(Bs)\n",
    "\n",
    "        #Pull best arm\n",
    "        arm_to_pull = np.argmin(Bs)\n",
    "        reward = bandit.pull_arm(arm_to_pull)\n",
    "        sample_rewards[arm_to_pull].append(reward)\n",
    "        net_rewards.append(reward)\n",
    "        num_played[arm_to_pull] += 1\n",
    "\n",
    "        #Update means and variances and mean-variance\n",
    "        sample_means[arm_to_pull] = np.mean(sample_rewards[arm_to_pull])\n",
    "        sample_vars[arm_to_pull] = np.var(sample_rewards[arm_to_pull])\n",
    "        mvs[arm_to_pull] = sample_vars[arm_to_pull] - rho*sample_means[arm_to_pull]\n",
    "        net_mv = np.var(net_rewards) - rho*np.mean(net_rewards)\n",
    "\n",
    "        #Update regret\n",
    "        regret_till_now = net_mv - mv_best\n",
    "        cum_regret_till_now += true_mvs[arm_to_pull] - mv_best\n",
    "        regret.append(regret_till_now)\n",
    "        cum_regret.append(cum_regret_till_now)\n",
    "        perc_optimal.append(num_played[best_arm]/float(t)) \n",
    "\n",
    "    regret_trials_1.append(regret)\n",
    "    cum_regret_trials_1.append(cum_regret)\n",
    "    perc_optimal_trials_1.append(perc_optimal)\n",
    "    var_trials_1.append(np.var(net_rewards))\n",
    "\n",
    "var_avg_1 = np.mean(var_trials_1)\n",
    "regret_avg_1 = np.mean(np.array(regret_trials_1), axis = 0)\n",
    "cum_regret_avg_1 = np.mean(np.array(cum_regret_trials_1), axis = 0)\n",
    "perc_optimal_avg_1 = np.mean(np.array(perc_optimal_trials_1), axis = 0)\n",
    "print(\"Variance\", var_avg_1)\n",
    "print(\"Regret\", regret_avg_1[-1])\n",
    "print(\"Cumulative Regret\", cum_regret_avg_1[-1])\n",
    "print(\"Perc optimal\", perc_optimal_avg_1[-1])\n",
    "print(num_played)  #of the last trial\n",
    "# print(cum_regret_avg_1)"
   ]
  },
  {
   "cell_type": "markdown",
   "metadata": {},
   "source": [
    "### ExpExp (Paper 1)"
   ]
  },
  {
   "cell_type": "code",
   "execution_count": 313,
   "metadata": {},
   "outputs": [
    {
     "name": "stdout",
     "output_type": "stream",
     "text": [
      "18\n",
      "('Variance', 0.28281599999999996)\n",
      "('Regret', 0.28281599999999996)\n",
      "('Cumulative Regret', 0.0)\n",
      "('Perc optimal', 0.982)\n",
      "[982, 18]\n"
     ]
    }
   ],
   "source": [
    "tau = int(np.ceil(np.power(n/14., 2./3.)))\n",
    "print(tau)\n",
    "\n",
    "var_trials_2 = []\n",
    "regret_trials_2 = []\n",
    "cum_regret_trials_2 = []\n",
    "perc_optimal_trials_2 = []\n",
    "for trial in range(trials):\n",
    "    \n",
    "    #Sample means and variances\n",
    "    sample_rewards = [[] for k in range(K)]\n",
    "    sample_means = [0]*K\n",
    "    sample_vars = [0]*K\n",
    "    net_rewards = []\n",
    "    net_mv = 0\n",
    "    #mean-variance values\n",
    "    mvs = [0]*K\n",
    "    #Number of times each arm is played\n",
    "    num_played = [0]*K\n",
    "    #Risk-averse regret\n",
    "    regret_till_now = 0\n",
    "    cum_regret_till_now = 0\n",
    "    regret = []\n",
    "    cum_regret = []\n",
    "    perc_optimal = []\n",
    "\n",
    "\n",
    "    for i in range(K):\n",
    "        for j in range(tau):\n",
    "            #Pull arm\n",
    "            reward = bandit.pull_arm(i)\n",
    "            #Add reward to list of rewards\n",
    "            sample_rewards[i].append(reward)\n",
    "            net_rewards.append(reward)\n",
    "            #Mean\n",
    "            sample_means[i] = np.mean(sample_rewards[i])\n",
    "            #Variance\n",
    "            sample_vars[i] = np.var(sample_rewards[i])\n",
    "            #Update arm played count\n",
    "            num_played[i] += 1   \n",
    "            #Update MV\n",
    "            mvs[i] = sample_vars[i] - rho*sample_means[i]   \n",
    "            net_mv = np.var(net_rewards) - rho*np.mean(net_rewards)\n",
    "            #Update regret\n",
    "            regret_till_now = net_mv - mv_best\n",
    "            cum_regret_till_now += true_mvs[i] - mv_best\n",
    "            regret.append(regret_till_now)\n",
    "            cum_regret.append(cum_regret_till_now)\n",
    "            perc_optimal.append(num_played[best_arm]/float(i*tau+j+1)) \n",
    "            \n",
    "\n",
    "    exploit_arm = np.argmin(mvs)\n",
    "    for i in range(tau*K+1, n+1):\n",
    "        reward = bandit.pull_arm(exploit_arm)\n",
    "        sample_rewards[exploit_arm].append(reward)\n",
    "        net_rewards.append(reward)\n",
    "        sample_means[exploit_arm] = np.mean(sample_rewards[exploit_arm])\n",
    "        sample_vars[exploit_arm] = np.var(sample_rewards[exploit_arm])\n",
    "        num_played[exploit_arm] += 1\n",
    "\n",
    "        mvs[exploit_arm] = sample_vars[exploit_arm] - rho*sample_means[exploit_arm]\n",
    "        net_mv = np.var(net_rewards) - rho*np.mean(net_rewards)\n",
    "    \n",
    "        #Update regret\n",
    "        regret_till_now = net_mv - mv_best\n",
    "        cum_regret_till_now += true_mvs[exploit_arm] - mv_best\n",
    "        regret.append(regret_till_now)\n",
    "        cum_regret.append(cum_regret_till_now)\n",
    "        perc_optimal.append(num_played[best_arm]/float(i))\n",
    "\n",
    "    regret_trials_2.append(regret)\n",
    "    cum_regret_trials_2.append(cum_regret)\n",
    "    perc_optimal_trials_2.append(perc_optimal)    \n",
    "    var_trials_2.append(np.var(net_rewards))\n",
    "\n",
    "var_avg_2 = np.mean(var_trials_2)\n",
    "regret_avg_2 = np.mean(np.array(regret_trials_2), axis = 0)\n",
    "cum_regret_avg_2 = np.mean(np.array(cum_regret_trials_2), axis = 0)\n",
    "perc_optimal_avg_2 = np.mean(np.array(perc_optimal_trials_2), axis = 0)\n",
    "print(\"Variance\", var_avg_2)\n",
    "print(\"Regret\", regret_avg_2[-1])\n",
    "print(\"Cumulative Regret\", cum_regret_avg_2[-1])\n",
    "print(\"Perc optimal\", perc_optimal_avg_2[-1])\n",
    "print(num_played)  #of the last trial\n",
    "# print(cum_regret_avg_2)"
   ]
  },
  {
   "cell_type": "markdown",
   "metadata": {},
   "source": [
    "### Eliminative MV-UCB (Paper 6)"
   ]
  },
  {
   "cell_type": "code",
   "execution_count": 314,
   "metadata": {},
   "outputs": [
    {
     "name": "stdout",
     "output_type": "stream",
     "text": [
      "('Variance', 3.246576)\n",
      "('Regret', 3.246576)\n",
      "('Cumulative Regret', 0.0)\n",
      "('Perc optimal', 0.7169999999999999)\n",
      "[717, 283]\n"
     ]
    }
   ],
   "source": [
    "#Eliminative MV-UCB\n",
    "\n",
    "#b - refer paper\n",
    "b = 0.1\n",
    "\n",
    "var_trials_3 = []\n",
    "regret_trials_3 = []\n",
    "cum_regret_trials_3 = []\n",
    "perc_optimal_trials_3 = []\n",
    "for trial in range(trials):\n",
    "    \n",
    "    #All arms in the set initially\n",
    "    S = set(range(K))\n",
    "\n",
    "    #Sample means and variances\n",
    "    sample_rewards = [[] for k in range(K)]\n",
    "    sample_means = [0]*K\n",
    "    sample_vars = [0]*K\n",
    "    net_rewards = []\n",
    "    net_mv = 0\n",
    "    #mean-variance values\n",
    "    mvs = [0]*K\n",
    "    #Number of times each arm is played\n",
    "    num_played = [0]*K\n",
    "    #Risk-averse regret\n",
    "    regret_till_now = 0\n",
    "    cum_regret_till_now = 0\n",
    "    regret = []\n",
    "    cum_regret = []\n",
    "    perc_optimal = []\n",
    "    #Whether time horizon has been reached\n",
    "    done = False\n",
    "    #Delta - refer paper\n",
    "    Delta = 1.0\n",
    "    #rounds count\n",
    "    rounds = 0\n",
    "\n",
    "    for m in range(n):\n",
    "        #(1)\n",
    "        #Calculate n_m\n",
    "        n_m = ceil(64 * b**2 * np.log(n) / (Delta**2))\n",
    "\n",
    "        if len(S) == 1:\n",
    "            i = list(S)[0]\n",
    "            #print(num_played, n)\n",
    "            while(sum(num_played) < n):\n",
    "                #Pull arm\n",
    "                reward = bandit.pull_arm(i)\n",
    "                sample_rewards[i].append(reward)\n",
    "                net_rewards.append(reward)\n",
    "                sample_means[i] = np.mean(sample_rewards[i])\n",
    "                sample_vars[i] = np.var(sample_rewards[i])\n",
    "                num_played[i] += 1  \n",
    "                rounds += 1\n",
    "                mvs[i] = sample_vars[i] - rho*sample_means[i]\n",
    "                net_mv = np.var(net_rewards) - rho*np.mean(net_rewards)\n",
    "                regret_till_now = net_mv - mv_best\n",
    "                cum_regret_till_now += true_mvs[i] - mv_best\n",
    "                regret.append(regret_till_now)\n",
    "                cum_regret.append(cum_regret_till_now)\n",
    "                perc_optimal.append(num_played[best_arm]/float(rounds)) \n",
    "            done = True\n",
    "        else:\n",
    "            for i in S: \n",
    "                while(num_played[i] < n_m):\n",
    "                    #Pull arm\n",
    "                    reward = bandit.pull_arm(i)\n",
    "                    #Add reward to list of rewards\n",
    "                    sample_rewards[i].append(reward)\n",
    "                    net_rewards.append(reward)\n",
    "                    #Update means and variances and mean-variance\n",
    "                    sample_means[i] = np.mean(sample_rewards[i])\n",
    "                    sample_vars[i] = np.var(sample_rewards[i])\n",
    "                    num_played[i] += 1  \n",
    "                    rounds += 1\n",
    "                    #Update MV\n",
    "                    mvs[i] = sample_vars[i] - rho*sample_means[i]\n",
    "                    net_mv = np.var(net_rewards) - rho*np.mean(net_rewards)\n",
    "                    #Update regret\n",
    "                    regret_till_now = net_mv - mv_best\n",
    "                    cum_regret_till_now += true_mvs[i] - mv_best\n",
    "                    regret.append(regret_till_now)\n",
    "                    cum_regret.append(cum_regret_till_now)\n",
    "                    perc_optimal.append(num_played[best_arm]/float(rounds)) \n",
    "                    \n",
    "                    if rounds >= n:\n",
    "                        done = True\n",
    "                        break\n",
    "                if done:\n",
    "                    break                    \n",
    "        if done:\n",
    "            break\n",
    "        #(2)\n",
    "        #Remove arms\n",
    "        #Find min_ucb\n",
    "        min_ucb = np.inf\n",
    "        for arm in S:\n",
    "            if mvs[arm] + b*sqrt(log(n)/n_m) < min_ucb:\n",
    "                min_ucb = mvs[arm] + b*sqrt(log(n)/n_m)\n",
    "        to_remove = []\n",
    "        for arm in S:\n",
    "            if mvs[arm] - b*sqrt(log(n)/n_m) > min_ucb: \n",
    "                to_remove.append(arm)\n",
    "        for arm in to_remove:\n",
    "            S.remove(arm)    \n",
    "        #(3)\n",
    "        Delta = Delta/2 \n",
    "        \n",
    "    regret_trials_3.append(regret)\n",
    "    cum_regret_trials_3.append(cum_regret)\n",
    "    perc_optimal_trials_3.append(perc_optimal)\n",
    "    var_trials_3.append(np.var(net_rewards))\n",
    "    \n",
    "var_avg_3 = np.mean(var_trials_3)\n",
    "regret_avg_3 = np.mean(np.array(regret_trials_3), axis = 0)\n",
    "cum_regret_avg_3 = np.mean(np.array(cum_regret_trials_3), axis = 0)\n",
    "perc_optimal_avg_3 = np.mean(np.array(perc_optimal_trials_3), axis = 0)\n",
    "print(\"Variance\", var_avg_3)\n",
    "print(\"Regret\", regret_avg_3[-1])\n",
    "print(\"Cumulative Regret\", cum_regret_avg_3[-1])\n",
    "print(\"Perc optimal\", perc_optimal_avg_3[-1])\n",
    "print(num_played)  #of the last trial"
   ]
  },
  {
   "cell_type": "code",
   "execution_count": 315,
   "metadata": {},
   "outputs": [
    {
     "data": {
      "text/plain": [
       "[<matplotlib.lines.Line2D at 0x7f1f88288610>]"
      ]
     },
     "execution_count": 315,
     "metadata": {},
     "output_type": "execute_result"
    },
    {
     "data": {
      "text/plain": [
       "[<matplotlib.lines.Line2D at 0x7f1f88288810>]"
      ]
     },
     "execution_count": 315,
     "metadata": {},
     "output_type": "execute_result"
    },
    {
     "data": {
      "text/plain": [
       "[<matplotlib.lines.Line2D at 0x7f1f8837b650>]"
      ]
     },
     "execution_count": 315,
     "metadata": {},
     "output_type": "execute_result"
    },
    {
     "data": {
      "text/plain": [
       "[<matplotlib.lines.Line2D at 0x7f1f883a6ad0>]"
      ]
     },
     "execution_count": 315,
     "metadata": {},
     "output_type": "execute_result"
    },
    {
     "data": {
      "text/plain": [
       "Text(0.5,0,'n')"
      ]
     },
     "execution_count": 315,
     "metadata": {},
     "output_type": "execute_result"
    },
    {
     "data": {
      "text/plain": [
       "Text(0,0.5,'regret')"
      ]
     },
     "execution_count": 315,
     "metadata": {},
     "output_type": "execute_result"
    },
    {
     "data": {
      "text/plain": [
       "<matplotlib.legend.Legend at 0x7f1f8837bbd0>"
      ]
     },
     "execution_count": 315,
     "metadata": {},
     "output_type": "execute_result"
    },
    {
     "data": {
      "image/png": "[encoded data removed]",
      "text/plain": [
       "<Figure size 432x288 with 1 Axes>"
      ]
     },
     "metadata": {
      "needs_background": "light"
     },
     "output_type": "display_data"
    },
    {
     "data": {
      "text/plain": [
       "[<matplotlib.lines.Line2D at 0x7f1f8845a850>]"
      ]
     },
     "execution_count": 315,
     "metadata": {},
     "output_type": "execute_result"
    },
    {
     "data": {
      "text/plain": [
       "[<matplotlib.lines.Line2D at 0x7f1f8842fdd0>]"
      ]
     },
     "execution_count": 315,
     "metadata": {},
     "output_type": "execute_result"
    },
    {
     "data": {
      "text/plain": [
       "[<matplotlib.lines.Line2D at 0x7f1f8842f210>]"
      ]
     },
     "execution_count": 315,
     "metadata": {},
     "output_type": "execute_result"
    },
    {
     "data": {
      "text/plain": [
       "[<matplotlib.lines.Line2D at 0x7f1f8842fc10>]"
      ]
     },
     "execution_count": 315,
     "metadata": {},
     "output_type": "execute_result"
    },
    {
     "data": {
      "text/plain": [
       "Text(0.5,0,'n')"
      ]
     },
     "execution_count": 315,
     "metadata": {},
     "output_type": "execute_result"
    },
    {
     "data": {
      "text/plain": [
       "Text(0,0.5,'cum regret')"
      ]
     },
     "execution_count": 315,
     "metadata": {},
     "output_type": "execute_result"
    },
    {
     "data": {
      "text/plain": [
       "<matplotlib.legend.Legend at 0x7f1f8842f590>"
      ]
     },
     "execution_count": 315,
     "metadata": {},
     "output_type": "execute_result"
    },
    {
     "data": {
      "image/png": "[encoded data removed]",
      "text/plain": [
       "<Figure size 432x288 with 1 Axes>"
      ]
     },
     "metadata": {
      "needs_background": "light"
     },
     "output_type": "display_data"
    },
    {
     "data": {
      "text/plain": [
       "[<matplotlib.lines.Line2D at 0x7f1f889df590>]"
      ]
     },
     "execution_count": 315,
     "metadata": {},
     "output_type": "execute_result"
    },
    {
     "data": {
      "text/plain": [
       "[<matplotlib.lines.Line2D at 0x7f1f893aaed0>]"
      ]
     },
     "execution_count": 315,
     "metadata": {},
     "output_type": "execute_result"
    },
    {
     "data": {
      "text/plain": [
       "[<matplotlib.lines.Line2D at 0x7f1f889dc3d0>]"
      ]
     },
     "execution_count": 315,
     "metadata": {},
     "output_type": "execute_result"
    },
    {
     "data": {
      "text/plain": [
       "[<matplotlib.lines.Line2D at 0x7f1f889dc410>]"
      ]
     },
     "execution_count": 315,
     "metadata": {},
     "output_type": "execute_result"
    },
    {
     "data": {
      "text/plain": [
       "Text(0.5,0,'n')"
      ]
     },
     "execution_count": 315,
     "metadata": {},
     "output_type": "execute_result"
    },
    {
     "data": {
      "text/plain": [
       "Text(0,0.5,'optimal arm played percentage')"
      ]
     },
     "execution_count": 315,
     "metadata": {},
     "output_type": "execute_result"
    },
    {
     "data": {
      "text/plain": [
       "<matplotlib.legend.Legend at 0x7f1f889dc610>"
      ]
     },
     "execution_count": 315,
     "metadata": {},
     "output_type": "execute_result"
    },
    {
     "data": {
      "image/png": "[encoded data removed]",
      "text/plain": [
       "<Figure size 432x288 with 1 Axes>"
      ]
     },
     "metadata": {
      "needs_background": "light"
     },
     "output_type": "display_data"
    }
   ],
   "source": [
    "save = True\n",
    "problem_id = \"S\"\n",
    "\n",
    "\n",
    "import matplotlib.pyplot as plt\n",
    "%matplotlib inline \n",
    "\n",
    "#Plot regret vs rounds\n",
    "plt.plot(regret_avg_0, color = \"yellow\", label = \"UCB\")\n",
    "plt.plot(regret_avg_1, color = \"blue\", label = \"MV-LCB\")\n",
    "plt.plot(regret_avg_2, color = \"green\", label = \"ExpExp\")\n",
    "plt.plot(regret_avg_3, color = \"red\", label = \"Eliminative MV-UCB\")\n",
    "plt.xlabel('n')\n",
    "plt.ylabel('regret')\n",
    "plt.legend()\n",
    "if save == True:\n",
    "    plt.savefig('mv_' + problem_id + '_' + str(rho) + '_reg.png')\n",
    "#plt.savefig('special_case_reg.png')\n",
    "plt.show()\n",
    "\n",
    "#Plot cum regret vs rounds\n",
    "plt.plot(cum_regret_avg_0, color = \"yellow\", label = \"UCB\")\n",
    "plt.plot(cum_regret_avg_1, color = \"blue\", label = \"MV-LCB\")\n",
    "plt.plot(cum_regret_avg_2, color = \"green\", label = \"ExpExp\")\n",
    "plt.plot(cum_regret_avg_3, color = \"red\", label = \"Eliminative MV-UCB\")\n",
    "plt.xlabel('n')\n",
    "#plt.ylim([0,80])\n",
    "plt.ylabel('cum regret')\n",
    "plt.legend()\n",
    "if save == True:\n",
    "    plt.savefig('mv_' + problem_id + '_' + str(rho) + '_cumreg.png')\n",
    "plt.show()\n",
    "\n",
    "#Plot percentage optimal vs rounds\n",
    "plt.plot(perc_optimal_avg_0, color = \"yellow\", label = \"UCB\")\n",
    "plt.plot(perc_optimal_avg_1, color = \"blue\", label = \"MV-LCB\")\n",
    "plt.plot(perc_optimal_avg_2, color = \"green\", label = \"ExpExp\")\n",
    "plt.plot(perc_optimal_avg_3, color = \"red\", label = \"Eliminative MV-UCB\")\n",
    "plt.xlabel('n')\n",
    "plt.ylabel('optimal arm played percentage')\n",
    "plt.legend()\n",
    "if save == True:\n",
    "    plt.savefig('mv_' + problem_id + '_' + str(rho) + '_perc.png')\n",
    "plt.show()"
   ]
  },
  {
   "cell_type": "code",
   "execution_count": null,
   "metadata": {},
   "outputs": [],
   "source": []
  },
  {
   "cell_type": "code",
   "execution_count": null,
   "metadata": {},
   "outputs": [],
   "source": []
  }
 ],
 "metadata": {
  "kernelspec": {
   "display_name": "Python 2",
   "language": "python",
   "name": "python2"
  },
  "language_info": {
   "codemirror_mode": {
    "name": "ipython",
    "version": 2
   },
   "file_extension": ".py",
   "mimetype": "text/x-python",
   "name": "python",
   "nbconvert_exporter": "python",
   "pygments_lexer": "ipython2",
   "version": "2.7.12"
  }
 },
 "nbformat": 4,
 "nbformat_minor": 2
}
